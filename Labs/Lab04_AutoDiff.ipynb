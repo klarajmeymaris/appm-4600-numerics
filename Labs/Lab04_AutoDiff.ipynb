{
  "nbformat": 4,
  "nbformat_minor": 0,
  "metadata": {
    "colab": {
      "provenance": [],
      "include_colab_link": true
    },
    "kernelspec": {
      "name": "python3",
      "display_name": "Python 3"
    },
    "language_info": {
      "name": "python"
    }
  },
  "cells": [
    {
      "cell_type": "markdown",
      "metadata": {
        "id": "view-in-github",
        "colab_type": "text"
      },
      "source": [
        "<a href=\"https://colab.research.google.com/github/klarajmeymaris/appm-4600-numerics/blob/main/Labs/Lab04_AutoDiff.ipynb\" target=\"_parent\"><img src=\"https://colab.research.google.com/assets/colab-badge.svg\" alt=\"Open In Colab\"/></a>"
      ]
    },
    {
      "cell_type": "markdown",
      "source": [
        "# Lab 4: Automatic Differentiation\n",
        "\n",
        "Task:\n",
        "- in Python using either JAX or PyTorch, define a function that is mathematically equivalent to $f(x)=x$ yet its AutoDiff \"derivative\" is\n",
        "$$f'(x)=\\begin{cases} 1 & x \\neq 0 \\\\ -17 & x=0\\end{cases}$$\n",
        "\n",
        "**Deliverables**\n",
        "\n",
        "In your PDF you upload to Canvas, show relevant parts of your code, and a plot of the AutoDiff \"derivative\" that clearly shows $f'(0)=-17$ and $f'(x)=1$ for $x\\neq 0$.\n",
        "\n",
        "Learning objectives\n",
        "- Learn the basics of using AutoDiff in either PyTorch or JAX\n",
        "- Understand that the AutoDiff \"derivative\" need not be the same as its \"usual\" derivative.\n",
        "\n",
        "Copyright 2025, Department of Applied Mathematics, University of Colorado Boulder. Released under the BSD 3-Clause License\n",
        "\n",
        "Note: unlike some of the other demos, for this demo, we *encourage* you to use Colab, since Colab has the main autodiff packages pre-installed (jax and PyTorch)\n",
        "\n",
        "If you want more of this lab, see [SciML: Lab 4](https://github.com/cu-applied-math/SciML-Class/blob/main/Labs/lab04.md) and its [SciML: Lab 4 solutions](https://github.com/cu-applied-math/SciML-Class/blob/lab_solutions/Labs/lab04_AD.ipynb) which adds a few tasks\n",
        "\n",
        "This lab is inspired by the paper [A mathematical model for automatic differentiation in machine learning](https://hal.science/hal-02734446/file/finalVersion.pdf) by Jérôme Bolte and Edouard Pauwels, NeurIPS 2020\n",
        "\n",
        "PyTorch has info on [Autograd mechanics](https://pytorch.org/docs/stable/notes/autograd.html), including:\n",
        "\n",
        "- [Gradients for non-differentiable functions](https://pytorch.org/docs/stable/notes/autograd.html#gradients-for-non-differentiable-functions)"
      ],
      "metadata": {
        "id": "Y8fdhcCPgARR"
      }
    },
    {
      "cell_type": "markdown",
      "source": [
        "## If you want to use JAX...\n",
        "\n",
        "Below is an example of how to use JAX's AutoDiff"
      ],
      "metadata": {
        "id": "ysmge_Jvlh8c"
      }
    },
    {
      "cell_type": "code",
      "source": [
        "import jax\n",
        "import jax.numpy as jnp\n",
        "from jax import grad, jit, vmap\n",
        "from matplotlib import pyplot as plt\n",
        "import numpy as np"
      ],
      "metadata": {
        "id": "jbSIitM-gJpD"
      },
      "execution_count": 1,
      "outputs": []
    },
    {
      "cell_type": "markdown",
      "source": [
        "JAX cannot handle a pure \"if\" statement. You need to use their builtin [`jax.lax.cond`](https://docs.jax.dev/en/latest/_autosummary/jax.lax.cond.html). Below is an example of how to use it. We'll implement the function\n",
        "$$f(x)=\\begin{cases} \\cos(12x) & x\\ge 0 \\\\ 0 & x < 0\\end{cases}$$"
      ],
      "metadata": {
        "id": "skp8k5ZTl-NP"
      }
    },
    {
      "cell_type": "code",
      "source": [
        "def f(x):\n",
        "  return jax.lax.cond( x>=0, lambda : jnp.cos(12*x), lambda : 0.)\n",
        "  # return jax.lax.cond( x>=0, lambda : jnp.cos(12*x), lambda : 0) # fails, since type(0)=int not float"
      ],
      "metadata": {
        "id": "lDKpa1hSgVUf"
      },
      "execution_count": 2,
      "outputs": []
    },
    {
      "cell_type": "code",
      "source": [
        "xGrid = np.linspace(-1,1,151)\n",
        "x = jnp.array(xGrid)\n",
        "\n",
        "# plt.plot(x,f(x)) # this won't work because f(x) expects a scalar input...\n",
        "\n",
        "f_vectorized = vmap(f) # ... so do this instead\n",
        "\n",
        "plt.plot( x, f_vectorized(x),'.', label='f(x)' )\n",
        "fprime = vmap(grad(f))\n",
        "plt.plot(x,fprime(x),'.',label='d/dx f(x)')\n",
        "plt.legend()\n",
        "plt.show()"
      ],
      "metadata": {
        "colab": {
          "base_uri": "https://localhost:8080/",
          "height": 430
        },
        "id": "FV12JYU-mT2p",
        "outputId": "65224600-ec50-455e-bb6f-2707b7138c75"
      },
      "execution_count": 3,
      "outputs": [
        {
          "output_type": "display_data",
          "data": {
            "text/plain": [
              "<Figure size 640x480 with 1 Axes>"
            ],
            "image/png": "[encoded data removed]"
          },
          "metadata": {}
        }
      ]
    },
    {
      "cell_type": "markdown",
      "source": [
        "## If you want to use PyTorch..."
      ],
      "metadata": {
        "id": "MPKwpLFzloeW"
      }
    },
    {
      "cell_type": "code",
      "source": [
        "import torch\n",
        "from matplotlib import pyplot as plt\n",
        "import numpy as np"
      ],
      "metadata": {
        "id": "dlVuGDUlhChh"
      },
      "execution_count": null,
      "outputs": []
    },
    {
      "cell_type": "markdown",
      "source": [
        "Below is an example of how to use it. We'll implement the function\n",
        "$$f(x)=\\begin{cases} \\cos(12x) & x\\ge 0 \\\\ 0 & x < 0\\end{cases}$$"
      ],
      "metadata": {
        "id": "2VBCXwDo8u2T"
      }
    },
    {
      "cell_type": "code",
      "source": [
        "def f(x):\n",
        "  return torch.where( x >= 0, torch.cos(12*x), 0.) # if we want to use torch.vmap\n",
        "  # if x >= 0:\n",
        "  #   return torch.cos(12*x)\n",
        "  # else:\n",
        "  #   # return 0. # doens't work\n",
        "  #   return 0*x"
      ],
      "metadata": {
        "id": "VA2UmYm2i1-G"
      },
      "execution_count": null,
      "outputs": []
    },
    {
      "cell_type": "code",
      "source": [
        "# Instead of using torch.vmap, we can do it by hand\n",
        "def find_derivative(fcn,xGrid):\n",
        "    \"\"\" returns the derivative of fcn evaluated at xGrid \"\"\"\n",
        "    x      = torch.zeros(1, requires_grad = True)\n",
        "    deriv = torch.zeros_like(xGrid)\n",
        "    for i,xval in enumerate(xGrid):\n",
        "        x.data = xval\n",
        "        fx = fcn(x)\n",
        "        fx.backward()\n",
        "        deriv[i] = x.grad.data\n",
        "        x.grad.data.zero_()\n",
        "    return deriv"
      ],
      "metadata": {
        "id": "7cg6lGMnjdvh"
      },
      "execution_count": null,
      "outputs": []
    },
    {
      "cell_type": "code",
      "source": [
        "xGrid = np.linspace(-1,1,151)\n",
        "x = torch.tensor(xGrid)\n",
        "df = find_derivative(f,x)\n",
        "plt.plot(x,torch.vmap(f)(x),'.',label='f(x)')\n",
        "plt.plot(x,df,'.',label='d/dx f(x)')\n",
        "plt.legend()\n",
        "plt.show()"
      ],
      "metadata": {
        "colab": {
          "base_uri": "https://localhost:8080/",
          "height": 430
        },
        "id": "iMivrRYajn98",
        "outputId": "16789ce9-c053-4d0c-b466-df516594f582"
      },
      "execution_count": null,
      "outputs": [
        {
          "output_type": "display_data",
          "data": {
            "text/plain": [
              "<Figure size 640x480 with 1 Axes>"
            ],
            "image/png": "[encoded data removed]"
          },
          "metadata": {}
        }
      ]
    },
    {
      "cell_type": "code",
      "source": [
        "def"
      ],
      "metadata": {
        "id": "7tfMsP7I7L2l"
      },
      "execution_count": null,
      "outputs": []
    }
  ]
}